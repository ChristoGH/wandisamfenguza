{
 "cells": [
  {
   "cell_type": "markdown",
   "metadata": {},
   "source": [
    "``` \n",
    "Start here...\n",
    "```"
   ]
  },
  {
   "cell_type": "code",
   "execution_count": null,
   "metadata": {},
   "outputs": [],
   "source": [
    "%matplotlib inline"
   ]
  },
  {
   "cell_type": "markdown",
   "metadata": {
    "collapsed": true
   },
   "source": [
    "``` \n",
    "http://bitbucket.nednet.co.za/scm/rbb-bdds/data_science_r.git\n",
    "https://machinelearningmastery.com/compare-machine-learning-algorithms-python-scikit-learn/ \n",
    "```"
   ]
  },
  {
   "cell_type": "markdown",
   "metadata": {},
   "source": [
    "``` \n",
    "This script was created by Christo Strydom.\n",
    "This evaluation is not a test!\n",
    "You do not need to be an Python champion to do any of the 'questions' below.  \n",
    "It is done to evaluate you as an aspiring data scientist.\n",
    "The answers to the 'questions' can easily be found in a google search.\n",
    "You have internet access.  Please it!\n",
    "\n",
    "0. Infrastructure preparation\n",
    "1. Data acquisition\n",
    "2. Data exploration\n",
    "3. Data visualization\n",
    "4. Model construction\n",
    "5. Model Evaluation\n",
    "6. Interpretation \n",
    "```"
   ]
  },
  {
   "cell_type": "code",
   "execution_count": 1,
   "metadata": {},
   "outputs": [],
   "source": [
    "import os"
   ]
  },
  {
   "cell_type": "code",
   "execution_count": 2,
   "metadata": {},
   "outputs": [
    {
     "data": {
      "text/plain": [
       "'C:\\\\candidates\\\\temp\\\\wandisamfenguza'"
      ]
     },
     "execution_count": 2,
     "metadata": {},
     "output_type": "execute_result"
    }
   ],
   "source": [
    "# Display the current working directory, this should reflect you own name:\n",
    "os.getcwd()"
   ]
  },
  {
   "cell_type": "code",
   "execution_count": 7,
   "metadata": {},
   "outputs": [],
   "source": [
    "# Set your candidatename = to your name as it appears in the directory, small caps and no spaces!: \n",
    "candidatename='wandisamfenguza'"
   ]
  },
  {
   "cell_type": "code",
   "execution_count": 4,
   "metadata": {},
   "outputs": [],
   "source": [
    "# Import pandas as pd and numpy as np\n",
    "import pandas as pd\n",
    "import numpy as np"
   ]
  },
  {
   "cell_type": "code",
   "execution_count": 5,
   "metadata": {},
   "outputs": [],
   "source": [
    "import seaborn as sns\n",
    "import matplotlib.pyplot as plt\n",
    "from matplotlib import colors"
   ]
  },
  {
   "cell_type": "code",
   "execution_count": 8,
   "metadata": {},
   "outputs": [],
   "source": [
    "# import cross_validate from sklearn.model_selection:\n",
    "from sklearn.model_selection import cross_validate\n",
    "from sklearn.discriminant_analysis import LinearDiscriminantAnalysis"
   ]
  },
  {
   "cell_type": "code",
   "execution_count": 17,
   "metadata": {},
   "outputs": [],
   "source": [
    "# Import DecisionTreeClassifier,KNeighborsClassifier, LinearDiscriminantAnalysis, SVC and \n",
    "# RandomForestClassifier from sklearn:\n",
    "from sklearn.ensemble.forest import RandomForestClassifier\n",
    "from sklearn.tree import DecisionTreeRegressor\n",
    "from sklearn.neighbors import KNeighborsClassifier\n",
    "from sklearn.svm import SVC\n",
    "from sklearn.discriminant_analysis import LinearDiscriminantAnalysis"
   ]
  },
  {
   "cell_type": "code",
   "execution_count": 19,
   "metadata": {},
   "outputs": [],
   "source": [
    "# Import KFold, cross_val_score and train_test_split from sklearn:\n",
    "from sklearn.model_selection import KFold,cross_val_score,train_test_split"
   ]
  },
  {
   "cell_type": "code",
   "execution_count": 21,
   "metadata": {},
   "outputs": [],
   "source": [
    "# import precision_score, recall_score, accuracy_score and confusion_matrix from sklearn\n",
    "from sklearn.metrics import precision_score,recall_score,accuracy_score,confusion_matrix"
   ]
  },
  {
   "cell_type": "code",
   "execution_count": 22,
   "metadata": {},
   "outputs": [],
   "source": [
    "from sklearn import svm\n",
    "from sklearn import model_selection\n",
    "from sklearn.datasets import make_classification"
   ]
  },
  {
   "cell_type": "markdown",
   "metadata": {},
   "source": [
    "# 1. Data acquisition"
   ]
  },
  {
   "cell_type": "code",
   "execution_count": null,
   "metadata": {},
   "outputs": [],
   "source": [
    "# The iris data has already been downloaded.  It is in the data directory."
   ]
  },
  {
   "cell_type": "code",
   "execution_count": 73,
   "metadata": {},
   "outputs": [
    {
     "data": {
      "text/html": [
       "<div>\n",
       "<style scoped>\n",
       "    .dataframe tbody tr th:only-of-type {\n",
       "        vertical-align: middle;\n",
       "    }\n",
       "\n",
       "    .dataframe tbody tr th {\n",
       "        vertical-align: top;\n",
       "    }\n",
       "\n",
       "    .dataframe thead th {\n",
       "        text-align: right;\n",
       "    }\n",
       "</style>\n",
       "<table border=\"1\" class=\"dataframe\">\n",
       "  <thead>\n",
       "    <tr style=\"text-align: right;\">\n",
       "      <th></th>\n",
       "      <th>0</th>\n",
       "      <th>1</th>\n",
       "      <th>2</th>\n",
       "      <th>3</th>\n",
       "      <th>4</th>\n",
       "    </tr>\n",
       "  </thead>\n",
       "  <tbody>\n",
       "    <tr>\n",
       "      <th>0</th>\n",
       "      <td>5.1</td>\n",
       "      <td>3.5</td>\n",
       "      <td>1.4</td>\n",
       "      <td>0.2</td>\n",
       "      <td>Iris-setosa</td>\n",
       "    </tr>\n",
       "    <tr>\n",
       "      <th>1</th>\n",
       "      <td>4.9</td>\n",
       "      <td>3.0</td>\n",
       "      <td>1.4</td>\n",
       "      <td>0.2</td>\n",
       "      <td>Iris-setosa</td>\n",
       "    </tr>\n",
       "    <tr>\n",
       "      <th>2</th>\n",
       "      <td>4.7</td>\n",
       "      <td>3.2</td>\n",
       "      <td>1.3</td>\n",
       "      <td>0.2</td>\n",
       "      <td>Iris-setosa</td>\n",
       "    </tr>\n",
       "    <tr>\n",
       "      <th>3</th>\n",
       "      <td>4.6</td>\n",
       "      <td>3.1</td>\n",
       "      <td>1.5</td>\n",
       "      <td>0.2</td>\n",
       "      <td>Iris-setosa</td>\n",
       "    </tr>\n",
       "    <tr>\n",
       "      <th>4</th>\n",
       "      <td>5.0</td>\n",
       "      <td>3.6</td>\n",
       "      <td>1.4</td>\n",
       "      <td>0.2</td>\n",
       "      <td>Iris-setosa</td>\n",
       "    </tr>\n",
       "  </tbody>\n",
       "</table>\n",
       "</div>"
      ],
      "text/plain": [
       "     0    1    2    3            4\n",
       "0  5.1  3.5  1.4  0.2  Iris-setosa\n",
       "1  4.9  3.0  1.4  0.2  Iris-setosa\n",
       "2  4.7  3.2  1.3  0.2  Iris-setosa\n",
       "3  4.6  3.1  1.5  0.2  Iris-setosa\n",
       "4  5.0  3.6  1.4  0.2  Iris-setosa"
      ]
     },
     "execution_count": 73,
     "metadata": {},
     "output_type": "execute_result"
    }
   ],
   "source": [
    "# Use pandas read_csv() method to load the data.  The file has ***NO HEADERS*** and is COMMA DELIMITED:\n",
    "iris_data = pd.read_csv('C://candidates//data/iris.data',header = None)\n",
    "iris_data.head()"
   ]
  },
  {
   "cell_type": "code",
   "execution_count": 74,
   "metadata": {},
   "outputs": [
    {
     "data": {
      "text/plain": [
       "Int64Index([0, 1, 2, 3, 4], dtype='int64')"
      ]
     },
     "execution_count": 74,
     "metadata": {},
     "output_type": "execute_result"
    }
   ],
   "source": [
    "iris_data.columns"
   ]
  },
  {
   "cell_type": "code",
   "execution_count": 77,
   "metadata": {},
   "outputs": [],
   "source": [
    "iris_data['Sepal.Length'] = iris_data[0]\n",
    "iris_data['Sepal.Width'] = iris_data[1]\n",
    "iris_data['Petal.Length'] = iris_data[2]\n",
    "iris_data['Petal.Width'] = iris_data[3]\n",
    "iris_data['Species'] = iris_data[4]\n",
    "iris_data.drop([''])"
   ]
  },
  {
   "cell_type": "code",
   "execution_count": 78,
   "metadata": {},
   "outputs": [
    {
     "data": {
      "text/html": [
       "<div>\n",
       "<style scoped>\n",
       "    .dataframe tbody tr th:only-of-type {\n",
       "        vertical-align: middle;\n",
       "    }\n",
       "\n",
       "    .dataframe tbody tr th {\n",
       "        vertical-align: top;\n",
       "    }\n",
       "\n",
       "    .dataframe thead th {\n",
       "        text-align: right;\n",
       "    }\n",
       "</style>\n",
       "<table border=\"1\" class=\"dataframe\">\n",
       "  <thead>\n",
       "    <tr style=\"text-align: right;\">\n",
       "      <th></th>\n",
       "      <th>0</th>\n",
       "      <th>1</th>\n",
       "      <th>2</th>\n",
       "      <th>3</th>\n",
       "      <th>4</th>\n",
       "      <th>Sepal.Length</th>\n",
       "      <th>Sepal.Width</th>\n",
       "      <th>Petal.Length</th>\n",
       "      <th>Petal.Width</th>\n",
       "      <th>Species</th>\n",
       "    </tr>\n",
       "  </thead>\n",
       "  <tbody>\n",
       "    <tr>\n",
       "      <th>0</th>\n",
       "      <td>5.1</td>\n",
       "      <td>3.5</td>\n",
       "      <td>1.4</td>\n",
       "      <td>0.2</td>\n",
       "      <td>Iris-setosa</td>\n",
       "      <td>5.1</td>\n",
       "      <td>3.5</td>\n",
       "      <td>1.4</td>\n",
       "      <td>0.2</td>\n",
       "      <td>Iris-setosa</td>\n",
       "    </tr>\n",
       "    <tr>\n",
       "      <th>1</th>\n",
       "      <td>4.9</td>\n",
       "      <td>3.0</td>\n",
       "      <td>1.4</td>\n",
       "      <td>0.2</td>\n",
       "      <td>Iris-setosa</td>\n",
       "      <td>4.9</td>\n",
       "      <td>3.0</td>\n",
       "      <td>1.4</td>\n",
       "      <td>0.2</td>\n",
       "      <td>Iris-setosa</td>\n",
       "    </tr>\n",
       "    <tr>\n",
       "      <th>2</th>\n",
       "      <td>4.7</td>\n",
       "      <td>3.2</td>\n",
       "      <td>1.3</td>\n",
       "      <td>0.2</td>\n",
       "      <td>Iris-setosa</td>\n",
       "      <td>4.7</td>\n",
       "      <td>3.2</td>\n",
       "      <td>1.3</td>\n",
       "      <td>0.2</td>\n",
       "      <td>Iris-setosa</td>\n",
       "    </tr>\n",
       "    <tr>\n",
       "      <th>3</th>\n",
       "      <td>4.6</td>\n",
       "      <td>3.1</td>\n",
       "      <td>1.5</td>\n",
       "      <td>0.2</td>\n",
       "      <td>Iris-setosa</td>\n",
       "      <td>4.6</td>\n",
       "      <td>3.1</td>\n",
       "      <td>1.5</td>\n",
       "      <td>0.2</td>\n",
       "      <td>Iris-setosa</td>\n",
       "    </tr>\n",
       "    <tr>\n",
       "      <th>4</th>\n",
       "      <td>5.0</td>\n",
       "      <td>3.6</td>\n",
       "      <td>1.4</td>\n",
       "      <td>0.2</td>\n",
       "      <td>Iris-setosa</td>\n",
       "      <td>5.0</td>\n",
       "      <td>3.6</td>\n",
       "      <td>1.4</td>\n",
       "      <td>0.2</td>\n",
       "      <td>Iris-setosa</td>\n",
       "    </tr>\n",
       "  </tbody>\n",
       "</table>\n",
       "</div>"
      ],
      "text/plain": [
       "     0    1    2    3            4  Sepal.Length  Sepal.Width  Petal.Length  \\\n",
       "0  5.1  3.5  1.4  0.2  Iris-setosa           5.1          3.5           1.4   \n",
       "1  4.9  3.0  1.4  0.2  Iris-setosa           4.9          3.0           1.4   \n",
       "2  4.7  3.2  1.3  0.2  Iris-setosa           4.7          3.2           1.3   \n",
       "3  4.6  3.1  1.5  0.2  Iris-setosa           4.6          3.1           1.5   \n",
       "4  5.0  3.6  1.4  0.2  Iris-setosa           5.0          3.6           1.4   \n",
       "\n",
       "   Petal.Width      Species  \n",
       "0          0.2  Iris-setosa  \n",
       "1          0.2  Iris-setosa  \n",
       "2          0.2  Iris-setosa  \n",
       "3          0.2  Iris-setosa  \n",
       "4          0.2  Iris-setosa  "
      ]
     },
     "execution_count": 78,
     "metadata": {},
     "output_type": "execute_result"
    }
   ],
   "source": [
    "iris_data.head()"
   ]
  },
  {
   "cell_type": "code",
   "execution_count": 65,
   "metadata": {},
   "outputs": [
    {
     "ename": "TypeError",
     "evalue": "'list' object is not callable",
     "output_type": "error",
     "traceback": [
      "\u001b[1;31m---------------------------------------------------------------------------\u001b[0m",
      "\u001b[1;31mTypeError\u001b[0m                                 Traceback (most recent call last)",
      "\u001b[1;32m<ipython-input-65-5d9f736734cd>\u001b[0m in \u001b[0;36m<module>\u001b[1;34m\u001b[0m\n\u001b[0;32m      1\u001b[0m \u001b[1;31m# set the column names in the dataset to \"Sepal.Length\",\"Sepal.Width\",\"Petal.Length\",\"Petal.Width\",\"Species\"\u001b[0m\u001b[1;33m\u001b[0m\u001b[1;33m\u001b[0m\u001b[1;33m\u001b[0m\u001b[0m\n\u001b[1;32m----> 2\u001b[1;33m \u001b[0miris_data\u001b[0m\u001b[1;33m.\u001b[0m\u001b[0mcolumns\u001b[0m \u001b[1;33m=\u001b[0m\u001b[0miris_data\u001b[0m\u001b[1;33m.\u001b[0m\u001b[0mrename\u001b[0m\u001b[1;33m(\u001b[0m\u001b[0mcolumns\u001b[0m\u001b[1;33m=\u001b[0m\u001b[1;33m[\u001b[0m\u001b[1;34m\"Sepal.Length\"\u001b[0m\u001b[1;33m,\u001b[0m\u001b[1;34m\"Sepal.Width\"\u001b[0m\u001b[1;33m,\u001b[0m\u001b[1;34m\"Petal.Length\"\u001b[0m\u001b[1;33m,\u001b[0m\u001b[1;34m\"Petal.Width\"\u001b[0m\u001b[1;33m,\u001b[0m\u001b[1;34m\"Species\"\u001b[0m\u001b[1;33m]\u001b[0m\u001b[1;33m,\u001b[0m\u001b[0minplace\u001b[0m\u001b[1;33m=\u001b[0m\u001b[1;32mTrue\u001b[0m\u001b[1;33m)\u001b[0m\u001b[1;33m\u001b[0m\u001b[1;33m\u001b[0m\u001b[0m\n\u001b[0m",
      "\u001b[1;32m~\\AppData\\Local\\Continuum\\anaconda3\\lib\\site-packages\\pandas\\util\\_decorators.py\u001b[0m in \u001b[0;36mwrapper\u001b[1;34m(*args, **kwargs)\u001b[0m\n\u001b[0;32m    195\u001b[0m         \u001b[1;33m@\u001b[0m\u001b[0mwraps\u001b[0m\u001b[1;33m(\u001b[0m\u001b[0mfunc\u001b[0m\u001b[1;33m)\u001b[0m\u001b[1;33m\u001b[0m\u001b[1;33m\u001b[0m\u001b[0m\n\u001b[0;32m    196\u001b[0m         \u001b[1;32mdef\u001b[0m \u001b[0mwrapper\u001b[0m\u001b[1;33m(\u001b[0m\u001b[1;33m*\u001b[0m\u001b[0margs\u001b[0m\u001b[1;33m,\u001b[0m \u001b[1;33m**\u001b[0m\u001b[0mkwargs\u001b[0m\u001b[1;33m)\u001b[0m\u001b[1;33m:\u001b[0m\u001b[1;33m\u001b[0m\u001b[1;33m\u001b[0m\u001b[0m\n\u001b[1;32m--> 197\u001b[1;33m             \u001b[1;32mreturn\u001b[0m \u001b[0mfunc\u001b[0m\u001b[1;33m(\u001b[0m\u001b[1;33m*\u001b[0m\u001b[0margs\u001b[0m\u001b[1;33m,\u001b[0m \u001b[1;33m**\u001b[0m\u001b[0mkwargs\u001b[0m\u001b[1;33m)\u001b[0m\u001b[1;33m\u001b[0m\u001b[1;33m\u001b[0m\u001b[0m\n\u001b[0m\u001b[0;32m    198\u001b[0m \u001b[1;33m\u001b[0m\u001b[0m\n\u001b[0;32m    199\u001b[0m         \u001b[1;32mif\u001b[0m \u001b[1;32mnot\u001b[0m \u001b[0mPY2\u001b[0m\u001b[1;33m:\u001b[0m\u001b[1;33m\u001b[0m\u001b[1;33m\u001b[0m\u001b[0m\n",
      "\u001b[1;32m~\\AppData\\Local\\Continuum\\anaconda3\\lib\\site-packages\\pandas\\core\\frame.py\u001b[0m in \u001b[0;36mrename\u001b[1;34m(self, *args, **kwargs)\u001b[0m\n\u001b[0;32m   4023\u001b[0m         \u001b[0mkwargs\u001b[0m\u001b[1;33m.\u001b[0m\u001b[0mpop\u001b[0m\u001b[1;33m(\u001b[0m\u001b[1;34m'axis'\u001b[0m\u001b[1;33m,\u001b[0m \u001b[1;32mNone\u001b[0m\u001b[1;33m)\u001b[0m\u001b[1;33m\u001b[0m\u001b[1;33m\u001b[0m\u001b[0m\n\u001b[0;32m   4024\u001b[0m         \u001b[0mkwargs\u001b[0m\u001b[1;33m.\u001b[0m\u001b[0mpop\u001b[0m\u001b[1;33m(\u001b[0m\u001b[1;34m'mapper'\u001b[0m\u001b[1;33m,\u001b[0m \u001b[1;32mNone\u001b[0m\u001b[1;33m)\u001b[0m\u001b[1;33m\u001b[0m\u001b[1;33m\u001b[0m\u001b[0m\n\u001b[1;32m-> 4025\u001b[1;33m         \u001b[1;32mreturn\u001b[0m \u001b[0msuper\u001b[0m\u001b[1;33m(\u001b[0m\u001b[0mDataFrame\u001b[0m\u001b[1;33m,\u001b[0m \u001b[0mself\u001b[0m\u001b[1;33m)\u001b[0m\u001b[1;33m.\u001b[0m\u001b[0mrename\u001b[0m\u001b[1;33m(\u001b[0m\u001b[1;33m**\u001b[0m\u001b[0mkwargs\u001b[0m\u001b[1;33m)\u001b[0m\u001b[1;33m\u001b[0m\u001b[1;33m\u001b[0m\u001b[0m\n\u001b[0m\u001b[0;32m   4026\u001b[0m \u001b[1;33m\u001b[0m\u001b[0m\n\u001b[0;32m   4027\u001b[0m     \u001b[1;33m@\u001b[0m\u001b[0mSubstitution\u001b[0m\u001b[1;33m(\u001b[0m\u001b[1;33m**\u001b[0m\u001b[0m_shared_doc_kwargs\u001b[0m\u001b[1;33m)\u001b[0m\u001b[1;33m\u001b[0m\u001b[1;33m\u001b[0m\u001b[0m\n",
      "\u001b[1;32m~\\AppData\\Local\\Continuum\\anaconda3\\lib\\site-packages\\pandas\\core\\generic.py\u001b[0m in \u001b[0;36mrename\u001b[1;34m(self, *args, **kwargs)\u001b[0m\n\u001b[0;32m   1089\u001b[0m                 \u001b[0mlevel\u001b[0m \u001b[1;33m=\u001b[0m \u001b[0mself\u001b[0m\u001b[1;33m.\u001b[0m\u001b[0maxes\u001b[0m\u001b[1;33m[\u001b[0m\u001b[0maxis\u001b[0m\u001b[1;33m]\u001b[0m\u001b[1;33m.\u001b[0m\u001b[0m_get_level_number\u001b[0m\u001b[1;33m(\u001b[0m\u001b[0mlevel\u001b[0m\u001b[1;33m)\u001b[0m\u001b[1;33m\u001b[0m\u001b[1;33m\u001b[0m\u001b[0m\n\u001b[0;32m   1090\u001b[0m             result._data = result._data.rename_axis(f, axis=baxis, copy=copy,\n\u001b[1;32m-> 1091\u001b[1;33m                                                     level=level)\n\u001b[0m\u001b[0;32m   1092\u001b[0m             \u001b[0mresult\u001b[0m\u001b[1;33m.\u001b[0m\u001b[0m_clear_item_cache\u001b[0m\u001b[1;33m(\u001b[0m\u001b[1;33m)\u001b[0m\u001b[1;33m\u001b[0m\u001b[1;33m\u001b[0m\u001b[0m\n\u001b[0;32m   1093\u001b[0m \u001b[1;33m\u001b[0m\u001b[0m\n",
      "\u001b[1;32m~\\AppData\\Local\\Continuum\\anaconda3\\lib\\site-packages\\pandas\\core\\internals\\managers.py\u001b[0m in \u001b[0;36mrename_axis\u001b[1;34m(self, mapper, axis, copy, level)\u001b[0m\n\u001b[0;32m    169\u001b[0m         \"\"\"\n\u001b[0;32m    170\u001b[0m         \u001b[0mobj\u001b[0m \u001b[1;33m=\u001b[0m \u001b[0mself\u001b[0m\u001b[1;33m.\u001b[0m\u001b[0mcopy\u001b[0m\u001b[1;33m(\u001b[0m\u001b[0mdeep\u001b[0m\u001b[1;33m=\u001b[0m\u001b[0mcopy\u001b[0m\u001b[1;33m)\u001b[0m\u001b[1;33m\u001b[0m\u001b[1;33m\u001b[0m\u001b[0m\n\u001b[1;32m--> 171\u001b[1;33m         \u001b[0mobj\u001b[0m\u001b[1;33m.\u001b[0m\u001b[0mset_axis\u001b[0m\u001b[1;33m(\u001b[0m\u001b[0maxis\u001b[0m\u001b[1;33m,\u001b[0m \u001b[0m_transform_index\u001b[0m\u001b[1;33m(\u001b[0m\u001b[0mself\u001b[0m\u001b[1;33m.\u001b[0m\u001b[0maxes\u001b[0m\u001b[1;33m[\u001b[0m\u001b[0maxis\u001b[0m\u001b[1;33m]\u001b[0m\u001b[1;33m,\u001b[0m \u001b[0mmapper\u001b[0m\u001b[1;33m,\u001b[0m \u001b[0mlevel\u001b[0m\u001b[1;33m)\u001b[0m\u001b[1;33m)\u001b[0m\u001b[1;33m\u001b[0m\u001b[1;33m\u001b[0m\u001b[0m\n\u001b[0m\u001b[0;32m    172\u001b[0m         \u001b[1;32mreturn\u001b[0m \u001b[0mobj\u001b[0m\u001b[1;33m\u001b[0m\u001b[1;33m\u001b[0m\u001b[0m\n\u001b[0;32m    173\u001b[0m \u001b[1;33m\u001b[0m\u001b[0m\n",
      "\u001b[1;32m~\\AppData\\Local\\Continuum\\anaconda3\\lib\\site-packages\\pandas\\core\\internals\\managers.py\u001b[0m in \u001b[0;36m_transform_index\u001b[1;34m(index, func, level)\u001b[0m\n\u001b[0;32m   2002\u001b[0m         \u001b[1;32mreturn\u001b[0m \u001b[0mMultiIndex\u001b[0m\u001b[1;33m.\u001b[0m\u001b[0mfrom_tuples\u001b[0m\u001b[1;33m(\u001b[0m\u001b[0mitems\u001b[0m\u001b[1;33m,\u001b[0m \u001b[0mnames\u001b[0m\u001b[1;33m=\u001b[0m\u001b[0mindex\u001b[0m\u001b[1;33m.\u001b[0m\u001b[0mnames\u001b[0m\u001b[1;33m)\u001b[0m\u001b[1;33m\u001b[0m\u001b[1;33m\u001b[0m\u001b[0m\n\u001b[0;32m   2003\u001b[0m     \u001b[1;32melse\u001b[0m\u001b[1;33m:\u001b[0m\u001b[1;33m\u001b[0m\u001b[1;33m\u001b[0m\u001b[0m\n\u001b[1;32m-> 2004\u001b[1;33m         \u001b[0mitems\u001b[0m \u001b[1;33m=\u001b[0m \u001b[1;33m[\u001b[0m\u001b[0mfunc\u001b[0m\u001b[1;33m(\u001b[0m\u001b[0mx\u001b[0m\u001b[1;33m)\u001b[0m \u001b[1;32mfor\u001b[0m \u001b[0mx\u001b[0m \u001b[1;32min\u001b[0m \u001b[0mindex\u001b[0m\u001b[1;33m]\u001b[0m\u001b[1;33m\u001b[0m\u001b[1;33m\u001b[0m\u001b[0m\n\u001b[0m\u001b[0;32m   2005\u001b[0m         \u001b[1;32mreturn\u001b[0m \u001b[0mIndex\u001b[0m\u001b[1;33m(\u001b[0m\u001b[0mitems\u001b[0m\u001b[1;33m,\u001b[0m \u001b[0mname\u001b[0m\u001b[1;33m=\u001b[0m\u001b[0mindex\u001b[0m\u001b[1;33m.\u001b[0m\u001b[0mname\u001b[0m\u001b[1;33m,\u001b[0m \u001b[0mtupleize_cols\u001b[0m\u001b[1;33m=\u001b[0m\u001b[1;32mFalse\u001b[0m\u001b[1;33m)\u001b[0m\u001b[1;33m\u001b[0m\u001b[1;33m\u001b[0m\u001b[0m\n\u001b[0;32m   2006\u001b[0m \u001b[1;33m\u001b[0m\u001b[0m\n",
      "\u001b[1;32m~\\AppData\\Local\\Continuum\\anaconda3\\lib\\site-packages\\pandas\\core\\internals\\managers.py\u001b[0m in \u001b[0;36m<listcomp>\u001b[1;34m(.0)\u001b[0m\n\u001b[0;32m   2002\u001b[0m         \u001b[1;32mreturn\u001b[0m \u001b[0mMultiIndex\u001b[0m\u001b[1;33m.\u001b[0m\u001b[0mfrom_tuples\u001b[0m\u001b[1;33m(\u001b[0m\u001b[0mitems\u001b[0m\u001b[1;33m,\u001b[0m \u001b[0mnames\u001b[0m\u001b[1;33m=\u001b[0m\u001b[0mindex\u001b[0m\u001b[1;33m.\u001b[0m\u001b[0mnames\u001b[0m\u001b[1;33m)\u001b[0m\u001b[1;33m\u001b[0m\u001b[1;33m\u001b[0m\u001b[0m\n\u001b[0;32m   2003\u001b[0m     \u001b[1;32melse\u001b[0m\u001b[1;33m:\u001b[0m\u001b[1;33m\u001b[0m\u001b[1;33m\u001b[0m\u001b[0m\n\u001b[1;32m-> 2004\u001b[1;33m         \u001b[0mitems\u001b[0m \u001b[1;33m=\u001b[0m \u001b[1;33m[\u001b[0m\u001b[0mfunc\u001b[0m\u001b[1;33m(\u001b[0m\u001b[0mx\u001b[0m\u001b[1;33m)\u001b[0m \u001b[1;32mfor\u001b[0m \u001b[0mx\u001b[0m \u001b[1;32min\u001b[0m \u001b[0mindex\u001b[0m\u001b[1;33m]\u001b[0m\u001b[1;33m\u001b[0m\u001b[1;33m\u001b[0m\u001b[0m\n\u001b[0m\u001b[0;32m   2005\u001b[0m         \u001b[1;32mreturn\u001b[0m \u001b[0mIndex\u001b[0m\u001b[1;33m(\u001b[0m\u001b[0mitems\u001b[0m\u001b[1;33m,\u001b[0m \u001b[0mname\u001b[0m\u001b[1;33m=\u001b[0m\u001b[0mindex\u001b[0m\u001b[1;33m.\u001b[0m\u001b[0mname\u001b[0m\u001b[1;33m,\u001b[0m \u001b[0mtupleize_cols\u001b[0m\u001b[1;33m=\u001b[0m\u001b[1;32mFalse\u001b[0m\u001b[1;33m)\u001b[0m\u001b[1;33m\u001b[0m\u001b[1;33m\u001b[0m\u001b[0m\n\u001b[0;32m   2006\u001b[0m \u001b[1;33m\u001b[0m\u001b[0m\n",
      "\u001b[1;31mTypeError\u001b[0m: 'list' object is not callable"
     ]
    }
   ],
   "source": [
    "# set the column names in the dataset to \"Sepal.Length\",\"Sepal.Width\",\"Petal.Length\",\"Petal.Width\",\"Species\"\n",
    "iris_data.columns =iris_data.rename(columns=[\"Sepal.Length\",\"Sepal.Width\",\"Petal.Length\",\"Petal.Width\",\"Species\"],inplace=True)\n"
   ]
  },
  {
   "cell_type": "code",
   "execution_count": null,
   "metadata": {},
   "outputs": [],
   "source": [
    "# Use train_test_split to create train and test data use an 80-20 split ie 80% train data and 20% test data.\n",
    "# Set the random state to 2019:\n",
    "X_train, X_test, y_train, y_test = train_test_split(X,y,test_size = 0.2,random_state=2019)"
   ]
  },
  {
   "cell_type": "code",
   "execution_count": null,
   "metadata": {},
   "outputs": [],
   "source": [
    "# Convert y_train to a row vector as opposed to a column vector.  Use the ravel method:\n",
    "y_train = y_train.values.ravel()\n",
    "y_test = y_test.values.ravel()"
   ]
  },
  {
   "cell_type": "code",
   "execution_count": null,
   "metadata": {},
   "outputs": [],
   "source": [
    "# Verify the dimensions of the datasets by printing their shapes to screen:\n",
    "print('*** YOUR CODE HERE ***')"
   ]
  },
  {
   "cell_type": "markdown",
   "metadata": {},
   "source": [
    "# 2. Data exploration"
   ]
  },
  {
   "cell_type": "code",
   "execution_count": null,
   "metadata": {},
   "outputs": [],
   "source": [
    "# Reveal the dimensions of the X_train to screen:\n",
    "'*** YOUR CODE HERE ***'"
   ]
  },
  {
   "cell_type": "code",
   "execution_count": null,
   "metadata": {},
   "outputs": [],
   "source": [
    "# List the class types of each of the 5 attributes. \n",
    "# Use the dtypes method on the train dataset (X_train):\n",
    "'*** YOUR CODE HERE ***'"
   ]
  },
  {
   "cell_type": "code",
   "execution_count": null,
   "metadata": {},
   "outputs": [],
   "source": [
    "# print to screen the top 20 rows of the train dataset (X_train):\n",
    "# Use the head() method:\n",
    "'*** YOUR CODE HERE ***'"
   ]
  },
  {
   "cell_type": "code",
   "execution_count": null,
   "metadata": {},
   "outputs": [],
   "source": [
    "# The Species column contains species categories.\n",
    "# List the unique values in the Species (y_train) column.  \n",
    "# This reveals the number of categories. Use the set and list operator.\n",
    "'*** YOUR CODE HERE ***'"
   ]
  },
  {
   "cell_type": "code",
   "execution_count": null,
   "metadata": {},
   "outputs": [],
   "source": [
    "# Count the number of members in each class of the Species column, use the iris_data dataframe and the value_counts() method:\n",
    "'*** YOUR CODE HERE ***'"
   ]
  },
  {
   "cell_type": "code",
   "execution_count": null,
   "metadata": {},
   "outputs": [],
   "source": [
    "# use the value_counts method set normalize to true\n",
    "iris_data['Species'].value_counts(normalize=True) * 100"
   ]
  },
  {
   "cell_type": "code",
   "execution_count": null,
   "metadata": {},
   "outputs": [],
   "source": [
    "# Use the describe method to reveal a statistical summary of all attributes\n",
    "# in train_data:\n",
    "'*** YOUR CODE HERE ***'"
   ]
  },
  {
   "cell_type": "markdown",
   "metadata": {},
   "source": [
    "\n",
    "# 3. Data visualization"
   ]
  },
  {
   "cell_type": "code",
   "execution_count": null,
   "metadata": {},
   "outputs": [],
   "source": [
    "# -Plot 1, iris_plot1_py---------------------------------------------------------------------------------------\n",
    "# Create a boxplot for the values of each of the 4 attributes in iris_data.\n",
    "# Use the boxplot() method for data frames\n",
    "# Place all boxplots on one image. Save this file as a .png\n",
    "ax = iris_data.boxplot(column=['*** YOUR CODE HERE ***'])\n",
    "# us ax above and define fig using the get_figure method on ax\n",
    "fig = '*** YOUR CODE HERE ***'\n",
    "# use the save_fig method to save the plot as iris_plot1_py.png:\n",
    "fig.savefig('*** YOUR CODE HERE ***')"
   ]
  },
  {
   "cell_type": "code",
   "execution_count": null,
   "metadata": {},
   "outputs": [],
   "source": [
    "# -Plot 2-iris_plot2_py--------------------------------------------------------------------------------------\n",
    "# Create a bar plot for the species column from iris_data:\n",
    "ax = '*** YOUR CODE HERE ***'\n",
    "fig = ax.get_figure()\n",
    "# use the save_fig method to save the plot as iris_plot2_py.png:\n",
    "fig.savefig('c://candidates//'+candidatename+'//graphs//'+'*** YOUR CODE HERE ***')"
   ]
  },
  {
   "cell_type": "code",
   "execution_count": null,
   "metadata": {},
   "outputs": [],
   "source": [
    "# iris_plot3_py ----------------------------------------------------------------------------------------------------------\n",
    "# Using the seaborn library use the pairgrid method sns.PairGrid() and set hue to species.\n",
    "# Place a histogram plt.hist on the diagonal with method map_diag and a scatterplot on the off diagonal using plt.scatter.  \n",
    "# Add a legend.\n",
    "g = sns.PairGrid(iris_data, hue=\"Species\")\n",
    "g.map_diag(plt.hist)\n",
    "g.map_offdiag(plt.scatter)\n",
    "g.add_legend();\n",
    "g.savefig('*** YOUR CODE HERE ***')\n",
    "# fig.savefig('c://candidates//'+candidatename+'//graphs//'+'iris_plot3_py.png')"
   ]
  },
  {
   "cell_type": "code",
   "execution_count": null,
   "metadata": {},
   "outputs": [],
   "source": [
    "# -Plot 4---------------------------------------------------------------------------------------\n",
    "# Do the same but create a box plot instead.  That is set plot=boxfig, axes = plt.subplots(2, 2, figsize=(16,9))\n",
    "# \"Sepal.Length\",\"Sepal.Width\",\"Petal.Length\",\"Petal.Width\"\n",
    "plot=boxfig, axes = plt.subplots(2, 2, figsize=(16,9))\n",
    "ax = sns.boxplot(x=\"Species\", y=\"Sepal.Length\", data=iris_data, orient='v', \n",
    "    ax=axes[0, 0])\n",
    "ax = sns.boxplot(x=\"Species\", y=\"Sepal.Width\", data=iris_data, orient='v', \n",
    "    ax=axes[0, 1])\n",
    "ax = sns.boxplot(x=\"Species\", y=\"Petal.Length\", data=iris_data, orient='v', \n",
    "    ax=axes[1, 0])\n",
    "ax = sns.boxplot(x=\"Species\", y=\"Petal.Width\", data=iris_data, orient='v', \n",
    "    ax=axes[1, 1])\n",
    "fig = '*** YOUR CODE HERE ***'\n",
    "# iris_plot1_\n",
    "\n",
    "fig.savefig('*** YOUR CODE HERE ***')"
   ]
  },
  {
   "cell_type": "code",
   "execution_count": null,
   "metadata": {},
   "outputs": [],
   "source": [
    "# construct seaborn sns with the pairplot method using data = iris_data and set hue to \"Species\" and use palette \"husl\":\n",
    "g = sns.pairplot('*** YOUR CODE HERE ***')\n",
    "# Save your plot with savefig method fro the fig into your graph directory.  Set the plot name to iris_plot5_py:\n",
    "g.savefig('*** YOUR CODE HERE ***')"
   ]
  },
  {
   "cell_type": "code",
   "execution_count": null,
   "metadata": {},
   "outputs": [],
   "source": [
    "# set up Seaborn (sns) and method PairGrid() with data = iris_data:\n",
    "g = sns.PairGrid('*** YOUR CODE HERE ***')\n",
    "# Populate the diagonal of the grid with func=sns.kdeplot. Use method map_diag():\n",
    "g.map_diag('*** YOUR CODE HERE ***')\n",
    "# Use method map_offdiag() and func = sns.kdeplot with n_levels=6 to populate the off diagonal items:\n",
    "g.map_offdiag('*** YOUR CODE HERE ***');\n",
    "# Save your plot as iris_plot6_py.png in your graph directory:\n",
    "g.savefig('*** YOUR CODE HERE ***')"
   ]
  },
  {
   "cell_type": "markdown",
   "metadata": {},
   "source": [
    "# 4. Model construction"
   ]
  },
  {
   "cell_type": "code",
   "execution_count": null,
   "metadata": {},
   "outputs": [],
   "source": [
    "# In the following section we create 5 standard models to \n",
    "# estimate the most likely species given 4 meausrements\n",
    "# \"Sepal.Length\",\"Sepal.Width\",\"Petal.Length\",\"Petal.Width\" (the flower measurement)\n",
    "# of unseen data.\n",
    "# \n",
    "# Set-up a framework to perform 10-fold cross validation.\n",
    "# Build 5 different models to predict species from flower measurements.\n",
    "# Select the best model.\n"
   ]
  },
  {
   "cell_type": "code",
   "execution_count": null,
   "metadata": {},
   "outputs": [],
   "source": [
    "# Create two empty lists, results and names.  This list will contain the name of the machine learning model \n",
    "# and the the results of a 10-fold cross validated results: \n",
    "results = []\n",
    "names = []\n",
    "# Set scoring to 'accuracy'\n",
    "scoring = 'accuracy'\n",
    "# Set a seed value equal to 2019\n",
    "seed = 2019\n",
    "n_splits=10"
   ]
  },
  {
   "cell_type": "markdown",
   "metadata": {},
   "source": [
    "## 4.1 Linear Discriminant Analysis"
   ]
  },
  {
   "cell_type": "markdown",
   "metadata": {},
   "source": [
    "#### https://www.datacamp.com/community/tutorials/decision-tree-classification-python"
   ]
  },
  {
   "cell_type": "markdown",
   "metadata": {},
   "source": [
    "``` Linear discriminant analysis (LDA), also known as normal discriminant analysis (NDA), is used to find a linear combination of features from the training set that best characterizes or separates two or more classes in the target set. ```"
   ]
  },
  {
   "cell_type": "code",
   "execution_count": null,
   "metadata": {},
   "outputs": [],
   "source": [
    "# set the name = 'lda':\n",
    "name='lda'\n",
    "# append to the names list:\n",
    "names.append(name)\n",
    "model = LinearDiscriminantAnalysis()"
   ]
  },
  {
   "cell_type": "code",
   "execution_count": null,
   "metadata": {},
   "outputs": [],
   "source": [
    "# Use method KFold() from model_selection, set n_splits=n_splits and seed=seed:\n",
    "kfold = model_selection.KFold('*** YOUR CODE HERE ***')"
   ]
  },
  {
   "cell_type": "code",
   "execution_count": null,
   "metadata": {},
   "outputs": [],
   "source": [
    "# Calculate the cross validated results using model_selection and the cross_val_score() method.\n",
    "# set estimator=model, cv=kfold, scoring=scoring, use X_train, y_train, derived above:\n",
    "cv_results = model_selection.cross_val_score('*** YOUR CODE HERE ***')\n",
    "# append cv_results to results using the append method:\n",
    "results.'*** YOUR CODE HERE ***'\n",
    "# this print a summary of the results:\n",
    "msg = \"%s: %f (%f)\" % (name, cv_results.mean(), cv_results.std())\n",
    "print(msg)"
   ]
  },
  {
   "cell_type": "code",
   "execution_count": null,
   "metadata": {},
   "outputs": [],
   "source": [
    "# Use the fit method() (of the model) and fit y_train  to X_train:\n",
    "model.fit(X_train, y_train)\n",
    "# Using this model and method predict() predict y using X_test, call the result y_test_predict:\n",
    "y_test_predict=model.predict('*** YOUR CODE HERE ***')\n",
    "# Print out a confusion matrix using y_test_predict and y_test:\n",
    "confusion_matrix('*** YOUR CODE HERE ***')"
   ]
  },
  {
   "cell_type": "code",
   "execution_count": null,
   "metadata": {},
   "outputs": [],
   "source": [
    "# calculate the model accuracy, use accuracy_score\n",
    "model_acc = accuracy_score('*** YOUR CODE HERE ***')\n",
    "# calculate the model precision score, use the method precision_score()\n",
    "model_ps = precision_score('*** YOUR CODE HERE ***', average='macro')\n",
    "# calculate the model precision score, use the method recall_score()\n",
    "model_rs = recall_score('*** YOUR CODE HERE ***', average='macro')\n",
    "print('Accuracy score: ',model_acc, ' Precision: ', model_ps, ' Recall: ',model_rs)"
   ]
  },
  {
   "cell_type": "markdown",
   "metadata": {
    "collapsed": true
   },
   "source": [
    "## 4.2 Decision tree"
   ]
  },
  {
   "cell_type": "markdown",
   "metadata": {},
   "source": [
    "``` The decision tree method is a powerful predictive machine learning technique used for both classification and regression. It is also known as Classification and Regression Trees (CART). ```"
   ]
  },
  {
   "cell_type": "code",
   "execution_count": null,
   "metadata": {},
   "outputs": [],
   "source": [
    "# Give the model a name:\n",
    "name='tree'\n",
    "# append to the names list:\n",
    "names.append('*** YOUR CODE HERE ***')\n",
    "model = DecisionTreeClassifier()"
   ]
  },
  {
   "cell_type": "code",
   "execution_count": null,
   "metadata": {},
   "outputs": [],
   "source": [
    "# Use method KFold() from model_selection, set n_splits=n_splits and seed=seed:\n",
    "kfold = model_selection.KFold('*** YOUR CODE HERE ***')"
   ]
  },
  {
   "cell_type": "code",
   "execution_count": null,
   "metadata": {},
   "outputs": [],
   "source": [
    "# Calculate the cross validated results using model_selection and the cross_val_score() method.\n",
    "# set estimator=model, cv=kfold, scoring=scoring, use X_train, y_train, derived above:\n",
    "cv_results = model_selection.cross_val_score('*** YOUR CODE HERE ***')\n",
    "# append cv_results to results using the append method:\n",
    "results.'*** YOUR CODE HERE ***'\n",
    "# this print a summary of the results:\n",
    "msg = \"%s: %f (%f)\" % (name, cv_results.mean(), cv_results.std())\n",
    "print(msg)"
   ]
  },
  {
   "cell_type": "code",
   "execution_count": null,
   "metadata": {},
   "outputs": [],
   "source": [
    "# Use the fit method() (of the model) and fit y_train  to X_train:\n",
    "model.fit(X_train, y_train)\n",
    "# Using this model and method predict() predict y using X_test, call the result y_test_predict:\n",
    "y_test_predict=model.predict('*** YOUR CODE HERE ***')\n",
    "# Print out a confusion matrix using y_test_predict and y_test:\n",
    "confusion_matrix('*** YOUR CODE HERE ***')"
   ]
  },
  {
   "cell_type": "code",
   "execution_count": null,
   "metadata": {},
   "outputs": [],
   "source": [
    "# calculate the model accuracy, use accuracy_score\n",
    "model_acc = accuracy_score('*** YOUR CODE HERE ***')\n",
    "# calculate the model precision score, use the method precision_score()\n",
    "model_ps = precision_score('*** YOUR CODE HERE ***', average='macro')\n",
    "# calculate the model precision score, use the method recall_score()\n",
    "model_rs = recall_score('*** YOUR CODE HERE ***', average='macro')\n",
    "print('Accuracy score: ',model_acc, ' Precision: ', model_ps, ' Recall: ',model_rs)"
   ]
  },
  {
   "cell_type": "markdown",
   "metadata": {},
   "source": [
    "## 4.3 k Nearest Neighbours"
   ]
  },
  {
   "cell_type": "markdown",
   "metadata": {},
   "source": [
    "``` K Nearest Neighbor is a Supervised Machine Learning algorithm.  It classifies a new data point into the target class, \n",
    "depending on the features of its neighboring data points.  Set the seed to 7 and method to 'knn'.  Assigne the model to a variable called fit.knn.\n",
    "Set n_neighbors to 3, use KNeighborsClassifier, derive a model call it knn and predict y_test using X_test:\n",
    "```"
   ]
  },
  {
   "cell_type": "code",
   "execution_count": null,
   "metadata": {},
   "outputs": [],
   "source": [
    "name='knn'\n",
    "# append to the names list:\n",
    "names.append(name)\n",
    "model = KNeighborsClassifier()"
   ]
  },
  {
   "cell_type": "code",
   "execution_count": null,
   "metadata": {},
   "outputs": [],
   "source": [
    "# Use method KFold() from model_selection, set n_splits=n_splits and seed=seed:\n",
    "kfold = model_selection.KFold('*** YOUR CODE HERE ***')"
   ]
  },
  {
   "cell_type": "code",
   "execution_count": null,
   "metadata": {},
   "outputs": [],
   "source": [
    "# Calculate the cross validated results using model_selection and the cross_val_score() method.\n",
    "# set estimator=model, cv=kfold, scoring=scoring, use X_train, y_train, derived above:\n",
    "cv_results = model_selection.cross_val_score('*** YOUR CODE HERE ***')\n",
    "# append cv_results to results using the append method:\n",
    "results.'*** YOUR CODE HERE ***'\n",
    "# this print a summary of the results:\n",
    "msg = \"%s: %f (%f)\" % (name, cv_results.mean(), cv_results.std())\n",
    "print(msg)"
   ]
  },
  {
   "cell_type": "code",
   "execution_count": null,
   "metadata": {},
   "outputs": [],
   "source": [
    "# Use the fit method() (of the model) and fit y_train  to X_train:\n",
    "model.fit(X_train, y_train)\n",
    "# Using this model and method predict() predict y using X_test, call the result y_test_predict:\n",
    "y_test_predict=model.predict('*** YOUR CODE HERE ***')\n",
    "# Print out a confusion matrix using y_test_predict and y_test:\n",
    "confusion_matrix('*** YOUR CODE HERE ***')"
   ]
  },
  {
   "cell_type": "code",
   "execution_count": null,
   "metadata": {},
   "outputs": [],
   "source": [
    "# calculate the model accuracy, use accuracy_score\n",
    "model_acc = accuracy_score('*** YOUR CODE HERE ***')\n",
    "# calculate the model precision score, use the method precision_score()\n",
    "model_ps = precision_score('*** YOUR CODE HERE ***', average='macro')\n",
    "# calculate the model precision score, use the method recall_score()\n",
    "model_rs = recall_score('*** YOUR CODE HERE ***', average='macro')\n",
    "print('Accuracy score: ',model_acc, ' Precision: ', model_ps, ' Recall: ',model_rs)"
   ]
  },
  {
   "cell_type": "markdown",
   "metadata": {},
   "source": [
    "## 4.4 The Support vector machine"
   ]
  },
  {
   "cell_type": "markdown",
   "metadata": {},
   "source": [
    "``` A support vector machine is a supervised learning technique and is mostly used in classification problems. \n",
    "In this algorithm, each data item is plotted as a point in the feature space\n",
    "with the value of each feature being the value of a particular coordinate. The model ultimately finds that hyper-plane that best separates all the classes.\n",
    "Set the seed to 7 and method to 'svmRadial'.  Assign the model to a variable called svm_model ```"
   ]
  },
  {
   "cell_type": "code",
   "execution_count": null,
   "metadata": {},
   "outputs": [],
   "source": [
    "name='svm'\n",
    "# append to the names list:\n",
    "names.append(name)\n",
    "model = SVC(gamma='scale')"
   ]
  },
  {
   "cell_type": "code",
   "execution_count": null,
   "metadata": {},
   "outputs": [],
   "source": [
    "# Use method KFold() from model_selection, set n_splits=n_splits and seed=seed:\n",
    "kfold = model_selection.KFold('*** YOUR CODE HERE ***')"
   ]
  },
  {
   "cell_type": "code",
   "execution_count": null,
   "metadata": {},
   "outputs": [],
   "source": [
    "# Calculate the cross validated results using model_selection and the cross_val_score() method.\n",
    "# set estimator=model, cv=kfold, scoring=scoring, use X_train, y_train, derived above:\n",
    "cv_results = model_selection.cross_val_score('*** YOUR CODE HERE ***')\n",
    "# append cv_results to results using the append method:\n",
    "results.'*** YOUR CODE HERE ***'\n",
    "# this print a summary of the results:\n",
    "msg = \"%s: %f (%f)\" % (name, cv_results.mean(), cv_results.std())\n",
    "print(msg)"
   ]
  },
  {
   "cell_type": "code",
   "execution_count": null,
   "metadata": {},
   "outputs": [],
   "source": [
    "# Use the fit method() (of the model) and fit y_train  to X_train:\n",
    "model.fit(X_train, y_train)\n",
    "# Using this model and method predict() predict y using X_test, call the result y_test_predict:\n",
    "y_test_predict=model.predict('*** YOUR CODE HERE ***')\n",
    "# Print out a confusion matrix using y_test_predict and y_test:\n",
    "confusion_matrix('*** YOUR CODE HERE ***')"
   ]
  },
  {
   "cell_type": "code",
   "execution_count": null,
   "metadata": {},
   "outputs": [],
   "source": [
    "# calculate the model accuracy, use accuracy_score\n",
    "model_acc = accuracy_score('*** YOUR CODE HERE ***')\n",
    "# calculate the model precision score, use the method precision_score()\n",
    "model_ps = precision_score('*** YOUR CODE HERE ***', average='macro')\n",
    "# calculate the model precision score, use the method recall_score()\n",
    "model_rs = recall_score('*** YOUR CODE HERE ***', average='macro')\n",
    "print('Accuracy score: ',model_acc, ' Precision: ', model_ps, ' Recall: ',model_rs)"
   ]
  },
  {
   "cell_type": "markdown",
   "metadata": {},
   "source": [
    "## e) Random Forest"
   ]
  },
  {
   "cell_type": "markdown",
   "metadata": {},
   "source": [
    "```Decision trees make binary predictions. The Random Forest technique is an improvement in that it trains not only one decision tree classifier, but a group of classifiers, each trained on a different random subset of the train set. The predicted class is the one that gets the MOST 'votes' from all the individual trees. ```"
   ]
  },
  {
   "cell_type": "code",
   "execution_count": null,
   "metadata": {},
   "outputs": [],
   "source": [
    "name='rf'\n",
    "# append to the names list:\n",
    "names.append(name)\n",
    "model = RandomForestClassifier(n_estimators=100)"
   ]
  },
  {
   "cell_type": "code",
   "execution_count": null,
   "metadata": {},
   "outputs": [],
   "source": [
    "# Use method KFold() from model_selection, set n_splits=n_splits and seed=seed:\n",
    "kfold = model_selection.KFold('*** YOUR CODE HERE ***')"
   ]
  },
  {
   "cell_type": "code",
   "execution_count": null,
   "metadata": {},
   "outputs": [],
   "source": [
    "# Calculate the cross validated results using model_selection and the cross_val_score() method.\n",
    "# set estimator=model, cv=kfold, scoring=scoring, use X_train, y_train, derived above:\n",
    "cv_results = model_selection.cross_val_score('*** YOUR CODE HERE ***')\n",
    "# append cv_results to results using the append method:\n",
    "results.'*** YOUR CODE HERE ***'\n",
    "# this print a summary of the results:\n",
    "msg = \"%s: %f (%f)\" % (name, cv_results.mean(), cv_results.std())\n",
    "print(msg)"
   ]
  },
  {
   "cell_type": "code",
   "execution_count": null,
   "metadata": {},
   "outputs": [],
   "source": [
    "# Use the fit method() (of the model) and fit y_train  to X_train:\n",
    "model.fit(X_train, y_train)\n",
    "# Using this model and method predict() predict y using X_test, call the result y_test_predict:\n",
    "y_test_predict=model.predict('*** YOUR CODE HERE ***')\n",
    "# Print out a confusion matrix using y_test_predict and y_test:\n",
    "confusion_matrix('*** YOUR CODE HERE ***')"
   ]
  },
  {
   "cell_type": "code",
   "execution_count": null,
   "metadata": {},
   "outputs": [],
   "source": [
    "# calculate the model accuracy, use accuracy_score\n",
    "model_acc = accuracy_score('*** YOUR CODE HERE ***')\n",
    "# calculate the model precision score, use the method precision_score()\n",
    "model_ps = precision_score('*** YOUR CODE HERE ***', average='macro')\n",
    "# calculate the model precision score, use the method recall_score()\n",
    "model_rs = recall_score('*** YOUR CODE HERE ***', average='macro')\n",
    "print('Accuracy score: ',model_acc, ' Precision: ', model_ps, ' Recall: ',model_rs)"
   ]
  },
  {
   "cell_type": "markdown",
   "metadata": {},
   "source": [
    "# 5. Evaluation"
   ]
  },
  {
   "cell_type": "code",
   "execution_count": null,
   "metadata": {},
   "outputs": [],
   "source": [
    "fig = plt.figure()\n",
    "fig.suptitle('Algorithm Evaluation')\n",
    "ax = fig.add_subplot(111)\n",
    "plt.boxplot(results)\n",
    "ax.set_xticklabels(names)\n",
    "plt.show()\n",
    "# Save this figure as \n",
    "fig.savefig('*** YOUR CODE HERE ***')"
   ]
  },
  {
   "cell_type": "markdown",
   "metadata": {},
   "source": [
    "# 6. Interpretation"
   ]
  },
  {
   "cell_type": "markdown",
   "metadata": {
    "collapsed": true
   },
   "source": [
    "```\n",
    "a)  Which model do you prefer and why? \n",
    "```\n",
    "    \n",
    "```\n",
    "b) What will happen with species not seen before?\n",
    "```\n",
    "    \n",
    "```\n",
    "c)  What makes these models so good (think about the difference between client behaviour (such as in Loyalty and Rewards) vs the attributes of plant species)?\n",
    "```\n",
    "     \n",
    "\n",
    "\n",
    "\n",
    "```\n",
    "This is the end of this Jupyter Notebook candidate evaluation.\n",
    "Thank you and good luck!\n",
    "```"
   ]
  },
  {
   "cell_type": "code",
   "execution_count": null,
   "metadata": {},
   "outputs": [],
   "source": []
  }
 ],
 "metadata": {
  "kernelspec": {
   "display_name": "Python 3",
   "language": "python",
   "name": "python3"
  },
  "language_info": {
   "codemirror_mode": {
    "name": "ipython",
    "version": 3
   },
   "file_extension": ".py",
   "mimetype": "text/x-python",
   "name": "python",
   "nbconvert_exporter": "python",
   "pygments_lexer": "ipython3",
   "version": "3.6.7"
  }
 },
 "nbformat": 4,
 "nbformat_minor": 2
}
